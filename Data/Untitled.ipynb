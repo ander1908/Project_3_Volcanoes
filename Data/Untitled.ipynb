{
 "cells": [
  {
   "cell_type": "code",
   "execution_count": 1,
   "metadata": {},
   "outputs": [],
   "source": [
    "import os\n",
    "import time\n",
    "import pandas as pd\n",
    "import datetime as dt\n",
    "import json\n",
    "import requests\n",
    "import csv\n",
    "import pprint"
   ]
  },
  {
   "cell_type": "code",
   "execution_count": 20,
   "metadata": {},
   "outputs": [
    {
     "data": {
      "text/plain": [
       "Year                                  812\n",
       "Mo                                    710\n",
       "Dy                                    648\n",
       "Tsu                                   148\n",
       "Eq                                     66\n",
       "Name                                  812\n",
       "Location                              812\n",
       "Country                               812\n",
       "Latitude                              812\n",
       "Longitude                             812\n",
       "Elevation (m)                         812\n",
       "Type                                  812\n",
       "VEI                                   641\n",
       "Agent                                 467\n",
       "Deaths                                428\n",
       "Death Description                     551\n",
       "Missing                                 8\n",
       "Missing Description                    11\n",
       "Injuries                               94\n",
       "Injuries Description                  118\n",
       "Damage ($Mil)                          18\n",
       "Damage Description                    226\n",
       "Houses Destroyed                       34\n",
       "Houses Destroyed Description          109\n",
       "Total Deaths                          449\n",
       "Total Death Description               576\n",
       "Total Missing                           8\n",
       "Total Missing Description              12\n",
       "Total Injuries                         96\n",
       "Total Injuries Description            126\n",
       "Total Damage ($Mil)                    22\n",
       "Total Damage Description              243\n",
       "Total Houses Destroyed                 40\n",
       "Total Houses Destroyed Description    132\n",
       "dtype: int64"
      ]
     },
     "execution_count": 20,
     "metadata": {},
     "output_type": "execute_result"
    }
   ],
   "source": [
    "#This csv file is downloaded from Kaggle\n",
    "filepath = (\"../Resources/volcano-events0-21.csv\")\n",
    "volcano_df = pd.read_csv(filepath)\n",
    "volcano_df.count()\n"
   ]
  },
  {
   "cell_type": "code",
   "execution_count": 19,
   "metadata": {},
   "outputs": [
    {
     "data": {
      "text/plain": [
       "Search Parameters                       1\n",
       "Year                                  841\n",
       "Mo                                    713\n",
       "Dy                                    651\n",
       "Tsu                                   151\n",
       "Eq                                     69\n",
       "Name                                  841\n",
       "Location                              841\n",
       "Country                               841\n",
       "Latitude                              841\n",
       "Longitude                             841\n",
       "Elevation (m)                         841\n",
       "Type                                  841\n",
       "VEI                                   665\n",
       "Agent                                 475\n",
       "Deaths                                430\n",
       "Death Description                     559\n",
       "Missing                                 8\n",
       "Missing Description                    11\n",
       "Injuries                               94\n",
       "Injuries Description                  118\n",
       "Damage ($Mil)                          18\n",
       "Damage Description                    233\n",
       "Houses Destroyed                       34\n",
       "Houses Destroyed Description          111\n",
       "Total Deaths                          451\n",
       "Total Death Description               584\n",
       "Total Missing                           8\n",
       "Total Missing Description              12\n",
       "Total Injuries                         96\n",
       "Total Injuries Description            126\n",
       "Total Damage ($Mil)                    22\n",
       "Total Damage Description              250\n",
       "Total Houses Destroyed                 40\n",
       "Total Houses Destroyed Description    134\n",
       "dtype: int64"
      ]
     },
     "execution_count": 19,
     "metadata": {},
     "output_type": "execute_result"
    }
   ],
   "source": [
    "#This file was downloaded as a tsv from NOAA\n",
    "volcano_2 = pd.read_csv(\"../Resources/volcano-events.tsv\", sep='\\t')\n"
   ]
  },
  {
   "cell_type": "code",
   "execution_count": 5,
   "metadata": {},
   "outputs": [
    {
     "data": {
      "text/plain": [
       "Year                                  float64\n",
       "Mo                                    float64\n",
       "Dy                                    float64\n",
       "Tsu                                   float64\n",
       "Eq                                    float64\n",
       "Name                                   object\n",
       "Location                               object\n",
       "Country                                object\n",
       "Latitude                              float64\n",
       "Longitude                             float64\n",
       "Elevation (m)                         float64\n",
       "Type                                   object\n",
       "VEI                                   float64\n",
       "Agent                                  object\n",
       "Deaths                                float64\n",
       "Death Description                     float64\n",
       "Missing                               float64\n",
       "Missing Description                   float64\n",
       "Injuries                              float64\n",
       "Injuries Description                  float64\n",
       "Damage ($Mil)                         float64\n",
       "Damage Description                    float64\n",
       "Houses Destroyed                      float64\n",
       "Houses Destroyed Description          float64\n",
       "Total Deaths                          float64\n",
       "Total Death Description               float64\n",
       "Total Missing                         float64\n",
       "Total Missing Description             float64\n",
       "Total Injuries                        float64\n",
       "Total Injuries Description            float64\n",
       "Total Damage ($Mil)                   float64\n",
       "Total Damage Description              float64\n",
       "Total Houses Destroyed                float64\n",
       "Total Houses Destroyed Description    float64\n",
       "dtype: object"
      ]
     },
     "execution_count": 5,
     "metadata": {},
     "output_type": "execute_result"
    }
   ],
   "source": [
    "volcano_df.dtypes"
   ]
  },
  {
   "cell_type": "code",
   "execution_count": 13,
   "metadata": {},
   "outputs": [
    {
     "data": {
      "text/plain": [
       "time               object\n",
       "latitude           object\n",
       "longitude          object\n",
       "depth              object\n",
       "mag                object\n",
       "magType            object\n",
       "nst                object\n",
       "gap                object\n",
       "dmin               object\n",
       "rms                object\n",
       "net                object\n",
       "id                 object\n",
       "updated            object\n",
       "place              object\n",
       "type               object\n",
       "horizontalError    object\n",
       "depthError         object\n",
       "magError           object\n",
       "magNst             object\n",
       "status             object\n",
       "locationSource     object\n",
       "magSource          object\n",
       "dtype: object"
      ]
     },
     "execution_count": 13,
     "metadata": {},
     "output_type": "execute_result"
    }
   ],
   "source": [
    "preeq_data = \"../Resources/query.csv\"\n",
    "preeq_dataDF = pd.read_csv(preeq_data, encoding=\"utf-8\")\n",
    "preeq_dataDF.dtypes"
   ]
  },
  {
   "cell_type": "code",
   "execution_count": null,
   "metadata": {},
   "outputs": [],
   "source": [
    "#Fliter the DF to our desired columns\n",
    "eq_cols = [\"time\", \"latitude\", \"longitude\", \"mag\", \"magType\"]\n",
    "eq_dataDF= preeq_dataDF[eq_cols].copy()\n",
    "\n",
    "#clean\n",
    "print(eq_dataDF.shape)\n",
    "eq_dataDF.drop_duplicates(\"time\", inplace=True) \n",
    "eq_dataDF = eq_dataDF.dropna() \n",
    "eq_dataDF.head()"
   ]
  }
 ],
 "metadata": {
  "kernelspec": {
   "display_name": "Python 3",
   "language": "python",
   "name": "python3"
  },
  "language_info": {
   "codemirror_mode": {
    "name": "ipython",
    "version": 3
   },
   "file_extension": ".py",
   "mimetype": "text/x-python",
   "name": "python",
   "nbconvert_exporter": "python",
   "pygments_lexer": "ipython3",
   "version": "3.8.5"
  }
 },
 "nbformat": 4,
 "nbformat_minor": 4
}
